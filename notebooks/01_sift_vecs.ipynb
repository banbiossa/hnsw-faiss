{
 "cells": [
  {
   "cell_type": "code",
   "execution_count": 1,
   "metadata": {},
   "outputs": [],
   "source": [
    "import numpy as np\n",
    "import faiss"
   ]
  },
  {
   "cell_type": "code",
   "execution_count": 2,
   "metadata": {},
   "outputs": [],
   "source": [
    "def read_fvecs(fp):\n",
    "    a = np.fromfile(fp, dtype='int32')\n",
    "    d = a[0]\n",
    "    return a.reshape(-1, d+1)[:, 1:].copy().view('float32')"
   ]
  },
  {
   "cell_type": "code",
   "execution_count": 7,
   "metadata": {},
   "outputs": [],
   "source": [
    "xb = read_fvecs('../data/siftsmall/siftsmall_base.fvecs')\n",
    "xq = read_fvecs('../data/siftsmall/siftsmall_query.fvecs')[0].reshape(1, -1)\n",
    "xq_full = read_fvecs('../data/siftsmall/siftsmall_query.fvecs')"
   ]
  },
  {
   "cell_type": "code",
   "execution_count": 8,
   "metadata": {},
   "outputs": [
    {
     "data": {
      "text/plain": [
       "array([[ 0., 16., 35., ..., 25., 23.,  1.],\n",
       "       [14., 35., 19., ..., 11., 21., 33.],\n",
       "       [ 0.,  1.,  5., ...,  4., 23., 10.],\n",
       "       ...,\n",
       "       [48.,  1.,  0., ..., 22., 62., 18.],\n",
       "       [ 0.,  0.,  0., ...,  3.,  3., 11.],\n",
       "       [14.,  2.,  0., ...,  0.,  0.,  7.]], dtype=float32)"
      ]
     },
     "execution_count": 8,
     "metadata": {},
     "output_type": "execute_result"
    }
   ],
   "source": []
  },
  {
   "cell_type": "code",
   "execution_count": null,
   "metadata": {},
   "outputs": [],
   "source": []
  }
 ],
 "metadata": {
  "interpreter": {
   "hash": "608a13f50780aeba72f812667b376defe8da1e3db385a6c242982202957782df"
  },
  "kernelspec": {
   "display_name": "Python 3.8.13 ('ann-faiss')",
   "language": "python",
   "name": "python3"
  },
  "language_info": {
   "codemirror_mode": {
    "name": "ipython",
    "version": 3
   },
   "file_extension": ".py",
   "mimetype": "text/x-python",
   "name": "python",
   "nbconvert_exporter": "python",
   "pygments_lexer": "ipython3",
   "version": "3.8.13"
  },
  "orig_nbformat": 4
 },
 "nbformat": 4,
 "nbformat_minor": 2
}
